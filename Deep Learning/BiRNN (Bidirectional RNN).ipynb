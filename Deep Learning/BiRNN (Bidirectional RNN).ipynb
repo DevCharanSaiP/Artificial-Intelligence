{
  "cells": [
    {
      "cell_type": "code",
      "execution_count": null,
      "id": "7880b961-0d37-4e6e-842e-a1d4ad6e724b",
      "metadata": {
        "id": "7880b961-0d37-4e6e-842e-a1d4ad6e724b",
        "outputId": "e332df13-f312-4e97-bcdc-3dcf4f9e6b4a"
      },
      "outputs": [
        {
          "name": "stdout",
          "output_type": "stream",
          "text": [
            "Requirement already satisfied: keras_preprocessing in c:\\users\\saill\\anaconda3\\lib\\site-packages (1.1.2)\n",
            "Requirement already satisfied: numpy>=1.9.1 in c:\\users\\saill\\anaconda3\\lib\\site-packages (from keras_preprocessing) (1.26.4)\n",
            "Requirement already satisfied: six>=1.9.0 in c:\\users\\saill\\anaconda3\\lib\\site-packages (from keras_preprocessing) (1.16.0)\n"
          ]
        }
      ],
      "source": [
        "!pip install keras_preprocessing"
      ]
    },
    {
      "cell_type": "code",
      "execution_count": null,
      "id": "31b8af3e-7257-4bf7-ac4b-cb04d4cd99da",
      "metadata": {
        "id": "31b8af3e-7257-4bf7-ac4b-cb04d4cd99da",
        "outputId": "b9765b3a-827d-4f18-a50a-7c2e4c251063"
      },
      "outputs": [
        {
          "name": "stderr",
          "output_type": "stream",
          "text": [
            "C:\\Users\\saill\\anaconda3\\Lib\\site-packages\\keras\\src\\layers\\core\\embedding.py:86: UserWarning: Argument `input_length` is deprecated. Just remove it.\n",
            "  warnings.warn(\n"
          ]
        }
      ],
      "source": [
        "from keras.models import Sequential\n",
        "from keras.layers import Embedding, Bidirectional, SimpleRNN, Dense\n",
        "\n",
        "\n",
        "features = 2000\n",
        "embedding = 128\n",
        "hidden = 64\n",
        "max_len = 50\n",
        "\n",
        "# Build the model\n",
        "model = Sequential()\n",
        "model.add(Embedding(features, embedding, input_length=max_len))\n",
        "model.add(Bidirectional(SimpleRNN(hidden)))\n",
        "model.add(Dense(1, activation='sigmoid'))\n",
        "\n",
        "# Compile the model\n",
        "model.compile(optimizer='adam', loss='binary_crossentropy', metrics=['accuracy'])\n"
      ]
    },
    {
      "cell_type": "code",
      "execution_count": null,
      "id": "aa3e918f-fd86-4ad2-ab6b-4c57587f5ca3",
      "metadata": {
        "id": "aa3e918f-fd86-4ad2-ab6b-4c57587f5ca3"
      },
      "outputs": [],
      "source": [
        "import warnings\n",
        "warnings.filterwarnings('ignore')\n",
        "from keras.datasets import imdb\n",
        "from keras_preprocessing.sequence import pad_sequences\n",
        "\n",
        "features = 2000\n",
        "len = 50\n",
        "(X_train, y_train),\\\n",
        "(X_test, y_test) = imdb.load_data(num_words=features)\n",
        "\n",
        "X_train = pad_sequences(X_train, maxlen=len)\n",
        "X_test = pad_sequences(X_test, maxlen=len)\n"
      ]
    },
    {
      "cell_type": "code",
      "execution_count": null,
      "id": "ab027903-4047-4152-8328-ddd1f8eafd98",
      "metadata": {
        "id": "ab027903-4047-4152-8328-ddd1f8eafd98",
        "outputId": "ca67ff3b-4819-4ba1-a905-a5a029234a25"
      },
      "outputs": [
        {
          "name": "stdout",
          "output_type": "stream",
          "text": [
            "Epoch 1/5\n",
            "\u001b[1m782/782\u001b[0m \u001b[32m━━━━━━━━━━━━━━━━━━━━\u001b[0m\u001b[37m\u001b[0m \u001b[1m41s\u001b[0m 45ms/step - accuracy: 0.6502 - loss: 0.6018 - val_accuracy: 0.7856 - val_loss: 0.4603\n",
            "Epoch 2/5\n",
            "\u001b[1m782/782\u001b[0m \u001b[32m━━━━━━━━━━━━━━━━━━━━\u001b[0m\u001b[37m\u001b[0m \u001b[1m37s\u001b[0m 47ms/step - accuracy: 0.8171 - loss: 0.4145 - val_accuracy: 0.7661 - val_loss: 0.4817\n",
            "Epoch 3/5\n",
            "\u001b[1m782/782\u001b[0m \u001b[32m━━━━━━━━━━━━━━━━━━━━\u001b[0m\u001b[37m\u001b[0m \u001b[1m35s\u001b[0m 44ms/step - accuracy: 0.8457 - loss: 0.3542 - val_accuracy: 0.7871 - val_loss: 0.4686\n",
            "Epoch 4/5\n",
            "\u001b[1m782/782\u001b[0m \u001b[32m━━━━━━━━━━━━━━━━━━━━\u001b[0m\u001b[37m\u001b[0m \u001b[1m36s\u001b[0m 46ms/step - accuracy: 0.8942 - loss: 0.2650 - val_accuracy: 0.7558 - val_loss: 0.5442\n",
            "Epoch 5/5\n",
            "\u001b[1m782/782\u001b[0m \u001b[32m━━━━━━━━━━━━━━━━━━━━\u001b[0m\u001b[37m\u001b[0m \u001b[1m40s\u001b[0m 51ms/step - accuracy: 0.9283 - loss: 0.1847 - val_accuracy: 0.7542 - val_loss: 0.6364\n"
          ]
        },
        {
          "data": {
            "text/plain": [
              "<keras.src.callbacks.history.History at 0x1ad8c6c8a50>"
            ]
          },
          "execution_count": 4,
          "metadata": {},
          "output_type": "execute_result"
        }
      ],
      "source": [
        "batch_size = 32\n",
        "epochs = 5\n",
        "\n",
        "model.fit(X_train, y_train,\n",
        "          batch_size=batch_size,\n",
        "          epochs=epochs,\n",
        "          validation_data=(X_test, y_test))\n"
      ]
    },
    {
      "cell_type": "code",
      "execution_count": null,
      "id": "00931e61-08d5-42d6-a2fc-b210146f20d7",
      "metadata": {
        "id": "00931e61-08d5-42d6-a2fc-b210146f20d7",
        "outputId": "a8c3bbe7-9b4f-45e0-9096-1f0e98f1e988"
      },
      "outputs": [
        {
          "name": "stdout",
          "output_type": "stream",
          "text": [
            "\u001b[1m782/782\u001b[0m \u001b[32m━━━━━━━━━━━━━━━━━━━━\u001b[0m\u001b[37m\u001b[0m \u001b[1m9s\u001b[0m 11ms/step - accuracy: 0.7496 - loss: 0.6506\n",
            "Test accuracy: 0.7541999816894531\n"
          ]
        }
      ],
      "source": [
        "loss, accuracy = model.evaluate(X_test, y_test)\n",
        "print('Test accuracy:', accuracy)\n"
      ]
    },
    {
      "cell_type": "code",
      "execution_count": null,
      "id": "1e48632d-5302-4113-91b5-8e5e8f1957c9",
      "metadata": {
        "id": "1e48632d-5302-4113-91b5-8e5e8f1957c9",
        "outputId": "fb18f546-2c90-46a2-927b-72825fbb79fe"
      },
      "outputs": [
        {
          "name": "stdout",
          "output_type": "stream",
          "text": [
            "Epoch 1/5\n",
            "\u001b[1m782/782\u001b[0m \u001b[32m━━━━━━━━━━━━━━━━━━━━\u001b[0m\u001b[37m\u001b[0m \u001b[1m32s\u001b[0m 41ms/step - accuracy: 0.9525 - loss: 0.1305 - val_accuracy: 0.7502 - val_loss: 0.7135\n",
            "Epoch 2/5\n",
            "\u001b[1m782/782\u001b[0m \u001b[32m━━━━━━━━━━━━━━━━━━━━\u001b[0m\u001b[37m\u001b[0m \u001b[1m32s\u001b[0m 41ms/step - accuracy: 0.9694 - loss: 0.0862 - val_accuracy: 0.7564 - val_loss: 0.8900\n",
            "Epoch 3/5\n",
            "\u001b[1m782/782\u001b[0m \u001b[32m━━━━━━━━━━━━━━━━━━━━\u001b[0m\u001b[37m\u001b[0m \u001b[1m35s\u001b[0m 45ms/step - accuracy: 0.9786 - loss: 0.0637 - val_accuracy: 0.7520 - val_loss: 0.9952\n",
            "Epoch 4/5\n",
            "\u001b[1m782/782\u001b[0m \u001b[32m━━━━━━━━━━━━━━━━━━━━\u001b[0m\u001b[37m\u001b[0m \u001b[1m33s\u001b[0m 42ms/step - accuracy: 0.9844 - loss: 0.0480 - val_accuracy: 0.7012 - val_loss: 1.1685\n",
            "Epoch 5/5\n",
            "\u001b[1m782/782\u001b[0m \u001b[32m━━━━━━━━━━━━━━━━━━━━\u001b[0m\u001b[37m\u001b[0m \u001b[1m33s\u001b[0m 42ms/step - accuracy: 0.9822 - loss: 0.0544 - val_accuracy: 0.7414 - val_loss: 1.1958\n"
          ]
        },
        {
          "data": {
            "image/png": "[encoded data removed]",
            "text/plain": [
              "<Figure size 640x480 with 1 Axes>"
            ]
          },
          "metadata": {},
          "output_type": "display_data"
        }
      ],
      "source": [
        "import matplotlib.pyplot as plt\n",
        "\n",
        "# Train and store history\n",
        "history = model.fit(\n",
        "    X_train,\n",
        "    y_train,\n",
        "    batch_size=32,\n",
        "    epochs=5,\n",
        "    validation_data=(X_test, y_test)\n",
        ")\n",
        "\n",
        "# Plot accuracy\n",
        "plt.plot(history.history['accuracy'], label='Train Accuracy')\n",
        "plt.plot(history.history['val_accuracy'], label='Val Accuracy')\n",
        "plt.title(\"Model Accuracy\")\n",
        "plt.xlabel(\"Epochs\")\n",
        "plt.ylabel(\"Accuracy\")\n",
        "plt.legend()\n",
        "plt.show()\n"
      ]
    }
  ],
  "metadata": {
    "kernelspec": {
      "display_name": "Python 3 (ipykernel)",
      "language": "python",
      "name": "python3"
    },
    "language_info": {
      "codemirror_mode": {
        "name": "ipython",
        "version": 3
      },
      "file_extension": ".py",
      "mimetype": "text/x-python",
      "name": "python",
      "nbconvert_exporter": "python",
      "pygments_lexer": "ipython3",
      "version": "3.11.7"
    },
    "colab": {
      "provenance": []
    }
  },
  "nbformat": 4,
  "nbformat_minor": 5
}